{
 "cells": [
  {
   "cell_type": "code",
   "execution_count": 1,
   "id": "e6a48c2f",
   "metadata": {},
   "outputs": [
    {
     "name": "stdout",
     "output_type": "stream",
     "text": [
      "✅ Loaded model from: ..\\outputs\\random_forest_model.pkl\n",
      "✅ Predictions generated for 418 passengers\n",
      "🚀 Submission file created: C:\\Users\\nicho\\Documents\\Kaggle\\titanic\\outputs\\submissions\\titanic_submission.csv\n",
      "   PassengerId  Survived\n",
      "0          892         0\n",
      "1          893         0\n",
      "2          894         0\n",
      "3          895         0\n",
      "4          896         0\n"
     ]
    }
   ],
   "source": [
    "# STEP 5 — Submission File Creation\n",
    "import pandas as pd\n",
    "from pathlib import Path\n",
    "import joblib\n",
    "\n",
    "# --- 1) Define paths ---\n",
    "PROC_DIR = Path(\"../data/processed\")\n",
    "OUT_DIR = Path(\"../outputs/submissions\")\n",
    "OUT_DIR.mkdir(parents=True, exist_ok=True)\n",
    "\n",
    "# --- 2) Load processed test set and saved model ---\n",
    "test_df = pd.read_csv(PROC_DIR / \"test_processed.csv\")\n",
    "model_path = Path(\"../outputs/random_forest_model.pkl\")\n",
    "\n",
    "if not model_path.exists():\n",
    "    raise FileNotFoundError(\n",
    "        f\"❌ Model not found at {model_path}. Please run Step 3 (training) first.\"\n",
    "    )\n",
    "\n",
    "model = joblib.load(model_path)\n",
    "print(f\"✅ Loaded model from: {model_path}\")\n",
    "\n",
    "# --- 3) Predict on test data ---\n",
    "# Ensure same feature alignment as during training\n",
    "test_features = test_df.copy()\n",
    "\n",
    "predictions = model.predict(test_features)\n",
    "print(f\"✅ Predictions generated for {len(predictions)} passengers\")\n",
    "\n",
    "# --- 4) Prepare submission DataFrame ---\n",
    "# Always pull PassengerId from the *raw* test file to preserve order\n",
    "raw_test = pd.read_csv(\"../data/raw/test.csv\")\n",
    "submission = pd.DataFrame({\n",
    "    \"PassengerId\": raw_test[\"PassengerId\"],\n",
    "    \"Survived\": predictions.astype(int)\n",
    "})\n",
    "\n",
    "# --- 5) Save submission file ---\n",
    "submission_path = OUT_DIR / \"titanic_submission.csv\"\n",
    "submission.to_csv(submission_path, index=False)\n",
    "\n",
    "print(f\"🚀 Submission file created: {submission_path.resolve()}\")\n",
    "print(submission.head())\n"
   ]
  },
  {
   "cell_type": "code",
   "execution_count": null,
   "id": "295d8113",
   "metadata": {},
   "outputs": [],
   "source": []
  }
 ],
 "metadata": {
  "kernelspec": {
   "display_name": ".venv",
   "language": "python",
   "name": "python3"
  },
  "language_info": {
   "codemirror_mode": {
    "name": "ipython",
    "version": 3
   },
   "file_extension": ".py",
   "mimetype": "text/x-python",
   "name": "python",
   "nbconvert_exporter": "python",
   "pygments_lexer": "ipython3",
   "version": "3.13.5"
  }
 },
 "nbformat": 4,
 "nbformat_minor": 5
}
