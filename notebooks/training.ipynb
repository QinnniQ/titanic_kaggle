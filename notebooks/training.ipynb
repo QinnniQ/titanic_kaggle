{
 "cells": [
  {
   "cell_type": "code",
   "execution_count": 1,
   "id": "2d5df69b",
   "metadata": {},
   "outputs": [
    {
     "name": "stderr",
     "output_type": "stream",
     "text": [
      "c:\\Users\\nicho\\Documents\\Kaggle\\titanic\\.venv\\Lib\\site-packages\\sklearn\\linear_model\\_logistic.py:473: ConvergenceWarning: lbfgs failed to converge after 1000 iteration(s) (status=1):\n",
      "STOP: TOTAL NO. OF ITERATIONS REACHED LIMIT\n",
      "\n",
      "Increase the number of iterations to improve the convergence (max_iter=1000).\n",
      "You might also want to scale the data as shown in:\n",
      "    https://scikit-learn.org/stable/modules/preprocessing.html\n",
      "Please also refer to the documentation for alternative solver options:\n",
      "    https://scikit-learn.org/stable/modules/linear_model.html#logistic-regression\n",
      "  n_iter_i = _check_optimize_result(\n"
     ]
    },
    {
     "name": "stdout",
     "output_type": "stream",
     "text": [
      "LogisticRegression: 0.8045\n",
      "DecisionTree: 0.7039\n",
      "RandomForest: 0.8101\n",
      "\n",
      "🏆 Model Leaderboard\n",
      "                Model  Validation_Accuracy\n",
      "0        RandomForest             0.810056\n",
      "1  LogisticRegression             0.804469\n",
      "2        DecisionTree             0.703911\n",
      "\n",
      "✅ Training complete. Best model saved to ../outputs/random_forest_model.pkl\n"
     ]
    }
   ],
   "source": [
    "# STEP 3 — Model Training\n",
    "import pandas as pd\n",
    "from pathlib import Path\n",
    "from sklearn.model_selection import train_test_split\n",
    "from sklearn.metrics import accuracy_score\n",
    "from sklearn.linear_model import LogisticRegression\n",
    "from sklearn.tree import DecisionTreeClassifier\n",
    "from sklearn.ensemble import RandomForestClassifier\n",
    "\n",
    "# --- 1) Load processed data fresh ---\n",
    "PROC_DIR = Path(\"../data/processed\")\n",
    "df = pd.read_csv(PROC_DIR / \"train_processed.csv\")\n",
    "\n",
    "# --- 2) Separate features and target ---\n",
    "X = df.drop(columns=[\"Survived\"], errors=\"ignore\")\n",
    "y = df[\"Survived\"]\n",
    "\n",
    "# --- 3) Split into train/validation sets ---\n",
    "X_train, X_val, y_train, y_val = train_test_split(\n",
    "    X, y, test_size=0.2, random_state=42, stratify=y\n",
    ")\n",
    "\n",
    "# --- 4) Initialize models ---\n",
    "models = {\n",
    "    \"LogisticRegression\": LogisticRegression(max_iter=1000, random_state=42),\n",
    "    \"DecisionTree\": DecisionTreeClassifier(random_state=42),\n",
    "    \"RandomForest\": RandomForestClassifier(n_estimators=200, random_state=42)\n",
    "}\n",
    "\n",
    "# --- 5) Train and evaluate each model ---\n",
    "results = []\n",
    "for name, model in models.items():\n",
    "    model.fit(X_train, y_train)\n",
    "    preds = model.predict(X_val)\n",
    "    acc = accuracy_score(y_val, preds)\n",
    "    results.append((name, acc))\n",
    "    print(f\"{name}: {acc:.4f}\")\n",
    "\n",
    "# --- 6) Display leaderboard ---\n",
    "results_df = pd.DataFrame(results, columns=[\"Model\", \"Validation_Accuracy\"])\n",
    "results_df = results_df.sort_values(\"Validation_Accuracy\", ascending=False).reset_index(drop=True)\n",
    "\n",
    "print(\"\\n🏆 Model Leaderboard\")\n",
    "print(results_df)\n",
    "\n",
    "# --- 7) Save best model (example: RandomForest) ---\n",
    "best_model = RandomForestClassifier(n_estimators=200, random_state=42)\n",
    "best_model.fit(X, y)\n",
    "\n",
    "import joblib\n",
    "Path(\"../outputs\").mkdir(parents=True, exist_ok=True)\n",
    "joblib.dump(best_model, \"../outputs/random_forest_model.pkl\")\n",
    "\n",
    "print(\"\\n✅ Training complete. Best model saved to ../outputs/random_forest_model.pkl\")\n"
   ]
  },
  {
   "cell_type": "code",
   "execution_count": null,
   "id": "4fa544fc",
   "metadata": {},
   "outputs": [],
   "source": []
  }
 ],
 "metadata": {
  "kernelspec": {
   "display_name": ".venv",
   "language": "python",
   "name": "python3"
  },
  "language_info": {
   "codemirror_mode": {
    "name": "ipython",
    "version": 3
   },
   "file_extension": ".py",
   "mimetype": "text/x-python",
   "name": "python",
   "nbconvert_exporter": "python",
   "pygments_lexer": "ipython3",
   "version": "3.13.5"
  }
 },
 "nbformat": 4,
 "nbformat_minor": 5
}
