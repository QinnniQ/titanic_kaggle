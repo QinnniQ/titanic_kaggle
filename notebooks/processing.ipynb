{
 "cells": [
  {
   "cell_type": "code",
   "execution_count": 3,
   "id": "c6e9f838",
   "metadata": {},
   "outputs": [
    {
     "name": "stdout",
     "output_type": "stream",
     "text": [
      "(891, 12)\n",
      "<class 'pandas.core.frame.DataFrame'>\n",
      "RangeIndex: 891 entries, 0 to 890\n",
      "Data columns (total 12 columns):\n",
      " #   Column       Non-Null Count  Dtype  \n",
      "---  ------       --------------  -----  \n",
      " 0   PassengerId  891 non-null    int64  \n",
      " 1   Survived     891 non-null    int64  \n",
      " 2   Pclass       891 non-null    int64  \n",
      " 3   Name         891 non-null    object \n",
      " 4   Sex          891 non-null    object \n",
      " 5   Age          714 non-null    float64\n",
      " 6   SibSp        891 non-null    int64  \n",
      " 7   Parch        891 non-null    int64  \n",
      " 8   Ticket       891 non-null    object \n",
      " 9   Fare         891 non-null    float64\n",
      " 10  Cabin        204 non-null    object \n",
      " 11  Embarked     889 non-null    object \n",
      "dtypes: float64(2), int64(5), object(5)\n",
      "memory usage: 83.7+ KB\n"
     ]
    },
    {
     "data": {
      "image/png": "[encoded data removed]",
      "text/plain": [
       "<Figure size 640x480 with 1 Axes>"
      ]
     },
     "metadata": {},
     "output_type": "display_data"
    },
    {
     "data": {
      "text/plain": [
       "<Axes: xlabel='Sex', ylabel='Survived'>"
      ]
     },
     "execution_count": 3,
     "metadata": {},
     "output_type": "execute_result"
    },
    {
     "data": {
      "image/png": "[encoded data removed]",
      "text/plain": [
       "<Figure size 640x480 with 1 Axes>"
      ]
     },
     "metadata": {},
     "output_type": "display_data"
    }
   ],
   "source": [
    "import pandas as pd\n",
    "import matplotlib.pyplot as plt\n",
    "import seaborn as sns\n",
    "\n",
    "# Load data\n",
    "train_df = pd.read_csv(\"../data/raw/train.csv\")\n",
    "test_df = pd.read_csv(\"../data/raw/test.csv\")\n",
    "\n",
    "# Overview\n",
    "print(train_df.shape)\n",
    "train_df.head()\n",
    "\n",
    "# Info\n",
    "train_df.info()\n",
    "train_df.describe()\n",
    "\n",
    "# Check missing values\n",
    "train_df.isnull().sum()\n",
    "\n",
    "# Visualize target balance\n",
    "sns.countplot(x='Survived', data=train_df)\n",
    "plt.title(\"Survival Distribution\")\n",
    "plt.show()\n",
    "\n",
    "# Check relationships\n",
    "sns.barplot(x='Sex', y='Survived', data=train_df)\n",
    "sns.barplot(x='Pclass', y='Survived', data=train_df)\n"
   ]
  },
  {
   "cell_type": "markdown",
   "id": "5e3accc5",
   "metadata": {},
   "source": [
    "***data processing***"
   ]
  },
  {
   "cell_type": "code",
   "execution_count": null,
   "id": "3732c280",
   "metadata": {},
   "outputs": [
    {
     "name": "stdout",
     "output_type": "stream",
     "text": [
      "✅ Preprocessing complete.\n",
      "Train shape: (891, 11) | Test shape: (418, 10)\n",
      "Processed files written to: C:\\Users\\nicho\\Documents\\Kaggle\\titanic\\data\\processed\n"
     ]
    }
   ],
   "source": [
    "import pandas as pd\n",
    "import numpy as np\n",
    "from pathlib import Path\n",
    "\n",
    "RAW_DIR = Path(\"../data/raw\")\n",
    "PROC_DIR = Path(\"../data/processed\")\n",
    "PROC_DIR.mkdir(parents=True, exist_ok=True)\n",
    "\n",
    "# --- 1) Load fresh copies from RAW so re-runs are always clean ---\n",
    "train_df = pd.read_csv(RAW_DIR / \"train.csv\")\n",
    "test_df  = pd.read_csv(RAW_DIR / \"test.csv\")\n",
    "\n",
    "# Keep originals intact\n",
    "train_df = train_df.copy()\n",
    "test_df  = test_df.copy()\n",
    "\n",
    "# --- 2) Impute missing values (deterministic, no leakage) ---\n",
    "# Use train statistics for both train/test where sensible\n",
    "age_median   = train_df[\"Age\"].median()\n",
    "fare_median  = train_df[\"Fare\"].median() if \"Fare\" in train_df else test_df[\"Fare\"].median()\n",
    "embark_mode  = train_df[\"Embarked\"].mode(dropna=True)[0]\n",
    "\n",
    "# Age\n",
    "train_df.loc[:, \"Age\"] = train_df[\"Age\"].fillna(age_median)\n",
    "test_df.loc[:,  \"Age\"] = test_df[\"Age\"].fillna(age_median)\n",
    "\n",
    "# Fare (train sometimes complete; test has NaNs)\n",
    "if \"Fare\" in train_df.columns:\n",
    "    train_df.loc[:, \"Fare\"] = train_df[\"Fare\"].fillna(fare_median)\n",
    "test_df.loc[:, \"Fare\"] = test_df[\"Fare\"].fillna(fare_median)\n",
    "\n",
    "# Embarked\n",
    "train_df.loc[:, \"Embarked\"] = train_df[\"Embarked\"].fillna(embark_mode)\n",
    "test_df.loc[:,  \"Embarked\"] = test_df[\"Embarked\"].fillna(embark_mode)\n",
    "\n",
    "# --- 3) Encode categoricals (idempotent & aligned) ---\n",
    "# Sex → {male:0, female:1}\n",
    "sex_map = {\"male\": 0, \"female\": 1}\n",
    "for df in (train_df, test_df):\n",
    "    # if already numeric, leave it; else map safely\n",
    "    if df[\"Sex\"].dtype == \"object\":\n",
    "        df.loc[:, \"Sex\"] = (\n",
    "            df[\"Sex\"].astype(str).str.strip().str.lower().map(sex_map).astype(\"Int64\")\n",
    "        )\n",
    "    else:\n",
    "        df.loc[:, \"Sex\"] = df[\"Sex\"].astype(\"Int64\")\n",
    "\n",
    "# Embarked → integer codes with stable categories across train+test\n",
    "all_embarked = pd.Categorical(\n",
    "    pd.concat([train_df[\"Embarked\"], test_df[\"Embarked\"]], ignore_index=True)\n",
    ")\n",
    "cats = list(all_embarked.categories)  # discovered categories\n",
    "train_df.loc[:, \"Embarked\"] = pd.Categorical(train_df[\"Embarked\"], categories=cats).codes\n",
    "test_df.loc[:,  \"Embarked\"] = pd.Categorical(test_df[\"Embarked\"],  categories=cats).codes\n",
    "\n",
    "# --- 4) Simple feature engineering ---\n",
    "for df in (train_df, test_df):\n",
    "    df.loc[:, \"FamilySize\"] = df[\"SibSp\"] + df[\"Parch\"] + 1\n",
    "    df.loc[:, \"IsAlone\"]    = (df[\"FamilySize\"] == 1).astype(\"Int64\")\n",
    "\n",
    "# --- 5) Drop high-cardinality / mostly-missing columns (safe) ---\n",
    "drop_cols = [\"Name\", \"Ticket\", \"Cabin\"]\n",
    "train_df = train_df.drop(columns=[c for c in drop_cols if c in train_df.columns], errors=\"ignore\")\n",
    "test_df  = test_df.drop(columns=[c for c in drop_cols if c in test_df.columns], errors=\"ignore\")\n",
    "\n",
    "# --- 6) Save processed outputs ---\n",
    "train_df.to_csv(PROC_DIR / \"train_processed.csv\", index=False)\n",
    "test_df.to_csv(PROC_DIR / \"test_processed.csv\", index=False)\n",
    "\n",
    "print(\"✅ Preprocessing complete.\")\n",
    "print(\"Train shape:\", train_df.shape, \"| Test shape:\", test_df.shape)\n",
    "print(\"Processed files written to:\", PROC_DIR.resolve())\n"
   ]
  },
  {
   "cell_type": "code",
   "execution_count": null,
   "id": "add86f05",
   "metadata": {},
   "outputs": [],
   "source": []
  }
 ],
 "metadata": {
  "kernelspec": {
   "display_name": ".venv",
   "language": "python",
   "name": "python3"
  },
  "language_info": {
   "codemirror_mode": {
    "name": "ipython",
    "version": 3
   },
   "file_extension": ".py",
   "mimetype": "text/x-python",
   "name": "python",
   "nbconvert_exporter": "python",
   "pygments_lexer": "ipython3",
   "version": "3.13.5"
  }
 },
 "nbformat": 4,
 "nbformat_minor": 5
}
